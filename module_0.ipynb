{
 "cells": [
  {
   "cell_type": "code",
   "execution_count": 43,
   "metadata": {},
   "outputs": [],
   "source": [
    "import numpy as np\n",
    "number = np.random.randint(1,101)"
   ]
  },
  {
   "cell_type": "code",
   "execution_count": 47,
   "metadata": {},
   "outputs": [
    {
     "name": "stdout",
     "output_type": "stream",
     "text": [
      "Вы угадали число 15 за 3 попыток.\n"
     ]
    }
   ],
   "source": [
    "import random\n",
    "upper_limit = 101\n",
    "lower_limit = 1\n",
    "count =0\n",
    "while True:\n",
    "    \"\"\"Задаём случайное число random_number в области обозначенных границ\"\"\"\n",
    "    random_number = random.randrange(lower_limit, upper_limit)\n",
    "    count += 1\n",
    "    if random_number == number:\n",
    "        break\n",
    "        \"\"\"Если угадали то закрываем цикл\"\"\"\n",
    "    elif random_number < number:\n",
    "        lower_limit = random_number\n",
    "        \"\"\"Если random_number меньше искомого числа присваиваем значение random_number нижней границе поиска lower_limit\"\"\"    \n",
    "    elif random_number > number:\n",
    "        upper_limit = random_number\n",
    "        \"\"\"Если random_number больше искомого числа присваиваем значение random_number верхней границе поиска upper_limit\"\"\"    \n",
    "print(f\"Вы угадали число {number} за {count} попыток.\")"
   ]
  },
  {
   "cell_type": "code",
   "execution_count": 68,
   "metadata": {},
   "outputs": [],
   "source": [
    "import numpy as np\n",
    "number = np.random.randint(1,101)"
   ]
  },
  {
   "cell_type": "code",
   "execution_count": 69,
   "metadata": {},
   "outputs": [
    {
     "name": "stdout",
     "output_type": "stream",
     "text": [
      "Вы угадали число 94 за 4 попыток.\n"
     ]
    }
   ],
   "source": [
    "upper_limit = 101\n",
    "lower_limit = 1\n",
    "count =0\n",
    "while True:\n",
    "    \"\"\"Вычисляем центральное число avg_range в заданной области ограниченной значениями lower_limit и upper_limit и сравниваем их\"\"\"\n",
    "    avg_range = round((upper_limit+lower_limit) / 2)\n",
    "    count += 1\n",
    "    if avg_range == number:\n",
    "        break\n",
    "        \"\"\"Если угадали то закрываем цикл\"\"\"            \n",
    "    elif avg_range < number:\n",
    "        lower_limit = avg_range\n",
    "        \"\"\"Если avg_range меньше искомого числа присваиваем значение avg_range нижней границе поиска lower_limit\"\"\"\n",
    "    elif avg_range > number:\n",
    "        upper_limit = avg_range\n",
    "        \"\"\"Если avg_range больше искомого числа присваиваем значение avg_range верхней границе поиска upper_limit\"\"\"\n",
    "print(f\"Вы угадали число {number} за {count} попыток.\")"
   ]
  },
  {
   "cell_type": "code",
   "execution_count": null,
   "metadata": {},
   "outputs": [],
   "source": []
  }
 ],
 "metadata": {
  "kernelspec": {
   "display_name": "Python 3",
   "language": "python",
   "name": "python3"
  },
  "language_info": {
   "codemirror_mode": {
    "name": "ipython",
    "version": 3
   },
   "file_extension": ".py",
   "mimetype": "text/x-python",
   "name": "python",
   "nbconvert_exporter": "python",
   "pygments_lexer": "ipython3",
   "version": "3.8.5"
  }
 },
 "nbformat": 4,
 "nbformat_minor": 4
}
